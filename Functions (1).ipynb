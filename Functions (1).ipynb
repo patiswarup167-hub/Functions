{
  "nbformat": 4,
  "nbformat_minor": 0,
  "metadata": {
    "colab": {
      "provenance": []
    },
    "kernelspec": {
      "name": "python3",
      "display_name": "Python 3"
    },
    "language_info": {
      "name": "python"
    }
  },
  "cells": [
    {
      "cell_type": "code",
      "execution_count": null,
      "metadata": {
        "id": "85uhb4NNiZae"
      },
      "outputs": [],
      "source": []
    },
    {
      "cell_type": "markdown",
      "source": [
        "#FUNCTIONS\n"
      ],
      "metadata": {
        "id": "0fb5ORVsikP9"
      }
    },
    {
      "cell_type": "markdown",
      "source": [
        "1. What is the difference between a function and a method in Python?\n",
        "\n",
        "ans-\n",
        "\n",
        "    Function: Defined independently using def. It can be called on its own.\n",
        "\n",
        "    Method: A function that belongs to an object (class instance).\n",
        "\n",
        "    Function eg-\n",
        "\n",
        "    def greet(name):\n",
        "     return f\"Hello, {name}\"\n",
        "     print(greet(\"name\"))\n",
        "\n",
        "    Method eg-\n",
        "\n",
        "   class Person:\n",
        "   \n",
        "    def greet(self):\n",
        "        return \"Hello from a method\"\n",
        "        p=perso\n",
        "        print(p.greet())\n",
        "\n",
        "\n",
        "2. Explain the concept of function arguments and parameters in Python.        \n",
        "\n",
        "ans-\n",
        "\n",
        "    Parameters: Variables defined in the function signature.\n",
        "\n",
        "    Arguments: Actual values passed during function call.\n",
        "\n",
        "    def add(a, b):   # a, b → parameters\n",
        "    return a + b\n",
        "\n",
        "    print(add(3, 4))  # 3, 4 → arguments\n",
        "\n",
        "\n",
        "\n",
        "3. What are the different ways to define and call a function in Python?\n",
        "\n",
        "\n",
        "ans-\n",
        "\n",
        "\n",
        "    By using def keyword\n",
        "\n",
        "    By using lambda function\n",
        "\n",
        "    As built-in functions\n",
        "\n",
        "    def square(x): return x*x\n",
        "    print(square(5))           # normal function\n",
        "\n",
        "    double = lambda x: x*2\n",
        "    print(double(6))           # lambda function\n",
        "\n",
        "\n",
        "\n",
        "\n",
        "4. What is the purpose of the `return` statement in a Python function?\n",
        "\n",
        "ans-\n",
        "\n",
        "    It sends a result back to the caller and terminates function execution.\n",
        "\n",
        "    def add(a, b):\n",
        "    return a + b\n",
        "\n",
        "    print(add(5, 7))  # 12\n",
        "\n",
        "\n",
        "5. What are iterators in Python and how do they differ from iterables?\n",
        "\n",
        "ans-\n",
        "\n",
        "    Iterable: Object you can loop over (list, tuple, string).\n",
        "\n",
        "    Iterator: Object with __next__() method to get next element.\n",
        "\n",
        "    nums = [1,2,3]\n",
        "    it = iter(nums)   # iterator\n",
        "    print(next(it))   # 1\n",
        "\n",
        "6. Explain the concept of generators in Python and how they are defined.\n",
        "\n",
        "ans-\n",
        "\n",
        "    A generator in python is a special type of functions that allows you to create an iterator or can be called as\n",
        "    functions that yield values one at a time using yield.\n",
        "\n",
        "    def gen_numbers():\n",
        "    for i in range(3):\n",
        "        yield i\n",
        "\n",
        "    for n in gen_numbers():\n",
        "    print(n)\n",
        "\n",
        "\n",
        " 7. What are the advantages of using generators over regular functions?\n",
        "\n",
        " ans-\n",
        "\n",
        "    A regular function:\n",
        "\n",
        "    Uses return to send back a value.\n",
        "\n",
        "    Once it returns, the function ends.\n",
        "\n",
        "    Always computes and stores all results in memory before returning them.\n",
        "\n",
        "    A generator:\n",
        "\n",
        "    Uses yield to produce values one at a time.\n",
        "\n",
        "    Does not end after yielding — it pauses and resumes where it left off.\n",
        "\n",
        "    Creates values lazily (only when needed).\n",
        "\n",
        "\n",
        "\n",
        "\n",
        "\n",
        "8. What is a lambda function in Python and when is it typically used?\n",
        "\n",
        "\n",
        "ans-\n",
        "\n",
        ".  Lambda function-\n",
        "   Anonymous one-line functions, usually used for short operations.\n",
        "\n",
        "    square = lambda x: x**2\n",
        "     print(square(5))   # 25\n",
        "\n",
        "\n",
        "\n",
        "9. Explain the purpose and usage of the `map()` function in Python.\n",
        "\n",
        "ans-\n",
        "\n",
        "    The map() function is used to apply a function to every item in an iterable (like a list, tuple, etc.) and return a new iterable (a map object).\n",
        "\n",
        "    So instead of writing a loop, you can apply a transformation in a single line.\n",
        "\n",
        "\n",
        "      numbers = [1, 2, 3, 4, 5]\n",
        "\n",
        "    Using map with a regular function\n",
        "    def square(x):\n",
        "    return x**2\n",
        "\n",
        "    result = map(square, numbers)\n",
        "    print(list(result))  # [1, 4, 9, 16, 25]\n",
        "\n",
        "\n",
        "10. What is the difference between `map()`, `reduce()`, and `filter()` functions in Python?\n",
        "\n",
        "\n",
        "ans-\n",
        "\n",
        "    map(): Applies function to all elements → returns new list.\n",
        "\n",
        "    filter(): Filters elements based on condition.\n",
        "\n",
        "    reduce(): Applies function cumulatively to reduce list to single value.\n",
        "\n",
        "    from functools import reduce\n",
        "    nums = [1,2,3,4]\n",
        "\n",
        "    print(list(map(lambda x:x*2, nums)))     # [2,4,6,8]\n",
        "    print(list(filter(lambda x:x%2==0, nums))) # [2,4]\n",
        "    print(reduce(lambda a,b: a+b, nums))     # 10\n",
        "\n",
        "\n",
        "11. Using pen & Paper write the internal mechanism for sum operation using  reduce function on this given\n",
        "            \n",
        "            list:[47,11,42,13];\n",
        "\n",
        "ans-\n",
        "\n",
        "           Step1: 47 + 11 = 58\n",
        "           Step2: 58 + 42 = 100\n",
        "           Step3: 100 + 13 = 113\n",
        "            Final result = 113"
      ],
      "metadata": {
        "id": "eZSuWkJFi_x_"
      }
    },
    {
      "cell_type": "markdown",
      "source": [
        "#Pratical questions\n"
      ],
      "metadata": {
        "id": "nIaguSK83-Ln"
      }
    },
    {
      "cell_type": "markdown",
      "source": [
        "1. Write a Python function that takes a list of numbers as input and returns the sum of all even numbers in\n",
        "the list."
      ],
      "metadata": {
        "id": "afVFh3v34FnR"
      }
    },
    {
      "cell_type": "code",
      "source": [
        "# 1. Sum of even numbers in list\n",
        "def sum_even(nums):\n",
        "    return sum(x for x in nums if x % 2 == 0)"
      ],
      "metadata": {
        "id": "oyUMk4zQ4Kq4"
      },
      "execution_count": 3,
      "outputs": []
    },
    {
      "cell_type": "markdown",
      "source": [
        "2. Create a Python function that accepts a string and returns the reverse of that string."
      ],
      "metadata": {
        "id": "cSBnFaFd4awW"
      }
    },
    {
      "cell_type": "code",
      "source": [
        "def reverse_string(s):\n",
        "    return s[::-1]\n",
        "\n",
        "# Example usage\n",
        "text = \"Hello World\"\n",
        "print(reverse_string(text))  # Output: dlroW olleH"
      ],
      "metadata": {
        "colab": {
          "base_uri": "https://localhost:8080/"
        },
        "id": "7Z8aC8DK41Lq",
        "outputId": "2300b00d-3c86-4163-e941-7a3a5b1b2f07"
      },
      "execution_count": 5,
      "outputs": [
        {
          "output_type": "stream",
          "name": "stdout",
          "text": [
            "dlroW olleH\n"
          ]
        }
      ]
    },
    {
      "cell_type": "markdown",
      "source": [
        "3. Implement a Python function that takes a list of integers and returns a new list containing the squares of\n",
        "each number.\n"
      ],
      "metadata": {
        "id": "F81gmpwN47F_"
      }
    },
    {
      "cell_type": "code",
      "source": [
        "def square_list(numbers):\n",
        "    return [x**2 for x in numbers]\n",
        "\n",
        "# Example usage\n",
        "nums = [1, 2, 3, 4, 5]\n",
        "print(square_list(nums))   # Output: [1, 4, 9, 16, 25]"
      ],
      "metadata": {
        "colab": {
          "base_uri": "https://localhost:8080/"
        },
        "id": "Bia7KXRi6Y83",
        "outputId": "bbea3615-2eaa-4bfc-b1b7-aca9d59927b3"
      },
      "execution_count": 18,
      "outputs": [
        {
          "output_type": "stream",
          "name": "stdout",
          "text": [
            "[1, 4, 9, 16, 25]\n"
          ]
        }
      ]
    },
    {
      "cell_type": "markdown",
      "source": [
        "4. Write a Python function that checks if a given number is prime or not from 1 to 200."
      ],
      "metadata": {
        "id": "1LyEVKI06bpR"
      }
    },
    {
      "cell_type": "code",
      "source": [
        "def is_prime(n):\n",
        "    if n < 2:\n",
        "        return False\n",
        "    for i in range(2, int(n**0.5) + 1):\n",
        "        if n % i == 0:\n",
        "            return False\n",
        "    return True\n",
        "\n",
        "# Find all primes from 1 to 200\n",
        "primes = [x for x in range(1, 201) if is_prime(x)]\n",
        "print(primes)\n"
      ],
      "metadata": {
        "colab": {
          "base_uri": "https://localhost:8080/"
        },
        "id": "1blrTQ_h6ifM",
        "outputId": "fe15269c-8b07-4e47-c39a-c8503b4c4a1b"
      },
      "execution_count": 19,
      "outputs": [
        {
          "output_type": "stream",
          "name": "stdout",
          "text": [
            "[2, 3, 5, 7, 11, 13, 17, 19, 23, 29, 31, 37, 41, 43, 47, 53, 59, 61, 67, 71, 73, 79, 83, 89, 97, 101, 103, 107, 109, 113, 127, 131, 137, 139, 149, 151, 157, 163, 167, 173, 179, 181, 191, 193, 197, 199]\n"
          ]
        }
      ]
    },
    {
      "cell_type": "markdown",
      "source": [
        "5. Create an iterator class in Python that generates the Fibonacci sequence up to a specified number of\n",
        "terms."
      ],
      "metadata": {
        "id": "A9N2bOId66T3"
      }
    },
    {
      "cell_type": "code",
      "source": [
        "class Fibonacci:\n",
        "    def __init__(self, n_terms):\n",
        "        self.n_terms = n_terms\n",
        "        self.count = 0\n",
        "        self.a, self.b = 0, 1   # First two Fibonacci numbers\n",
        "\n",
        "    def __iter__(self):\n",
        "        return self\n",
        "\n",
        "    def __next__(self):\n",
        "        if self.count < self.n_terms:\n",
        "            value = self.a\n",
        "            self.a, self.b = self.b, self.a + self.b  # Update for next term\n",
        "            self.count += 1\n",
        "            return value\n",
        "        else:\n",
        "            raise StopIteration\n",
        "\n",
        "\n",
        "# Example usage\n",
        "fib = Fibonacci(10)   # Generate first 10 Fibonacci numbers\n",
        "for num in fib:\n",
        "    print(num, end=\" \")\n"
      ],
      "metadata": {
        "colab": {
          "base_uri": "https://localhost:8080/"
        },
        "id": "vIEenxGC6_bl",
        "outputId": "a52b84c7-b228-4bd5-cb65-a7b571d6c7c0"
      },
      "execution_count": 20,
      "outputs": [
        {
          "output_type": "stream",
          "name": "stdout",
          "text": [
            "0 1 1 2 3 5 8 13 21 34 "
          ]
        }
      ]
    },
    {
      "cell_type": "markdown",
      "source": [
        "6. Write a generator function in Python that yields the powers of 2 up to a given exponent.\n"
      ],
      "metadata": {
        "id": "he0AGhmS7JxS"
      }
    },
    {
      "cell_type": "code",
      "source": [
        "def powers_of_two(n):\n",
        "    for i in range(n + 1):   # include n\n",
        "        yield 2 ** i\n",
        "\n",
        "# Example usage\n",
        "for value in powers_of_two(5):\n",
        "    print(value, end=\" \")\n"
      ],
      "metadata": {
        "colab": {
          "base_uri": "https://localhost:8080/"
        },
        "id": "9yFF2GZW7PVT",
        "outputId": "2971dc62-6c3e-4065-8d7f-d398c655e5f9"
      },
      "execution_count": 21,
      "outputs": [
        {
          "output_type": "stream",
          "name": "stdout",
          "text": [
            "1 2 4 8 16 32 "
          ]
        }
      ]
    },
    {
      "cell_type": "markdown",
      "source": [
        "7. Implement a generator function that reads a file line by line and yields each line as a string."
      ],
      "metadata": {
        "id": "LPvXeyJ97cao"
      }
    },
    {
      "cell_type": "code",
      "source": [
        "def read_file_lines(filename):\n",
        "    with open(filename, \"r\") as file:\n",
        "        for line in file:\n",
        "            yield line.strip()   # strip() removes \\n at the end\n",
        "\n"
      ],
      "metadata": {
        "id": "nwnLRuOq7sqE"
      },
      "execution_count": 24,
      "outputs": []
    },
    {
      "cell_type": "markdown",
      "source": [
        "8. Use a lambda function in Python to sort a list of tuples based on the second element of each tuple.\n"
      ],
      "metadata": {
        "id": "a-QJIaZW78V0"
      }
    },
    {
      "cell_type": "code",
      "source": [
        "# List of tuples\n",
        "data = [(1, 5), (3, 1), (4, 6), (2, 3)]\n",
        "\n",
        "# Sort by second element\n",
        "sorted_data = sorted(data, key=lambda x: x[1])\n",
        "\n",
        "print(sorted_data)\n"
      ],
      "metadata": {
        "colab": {
          "base_uri": "https://localhost:8080/"
        },
        "id": "Wjl7I4d-8AQp",
        "outputId": "cd761d18-3b5e-4a14-fea2-027cba0aaa74"
      },
      "execution_count": 25,
      "outputs": [
        {
          "output_type": "stream",
          "name": "stdout",
          "text": [
            "[(3, 1), (2, 3), (1, 5), (4, 6)]\n"
          ]
        }
      ]
    },
    {
      "cell_type": "markdown",
      "source": [
        "9. Write a Python program that uses `map()` to convert a list of temperatures from Celsius to Fahrenheit."
      ],
      "metadata": {
        "id": "xCXNf_6J8G5W"
      }
    },
    {
      "cell_type": "code",
      "source": [
        "# Celsius to Fahrenheit formula: F = (C * 9/5) + 32\n",
        "\n",
        "def c_to_f(celsius):\n",
        "    return (celsius * 9/5) + 32\n",
        "\n",
        "# List of temperatures in Celsius\n",
        "celsius_temps = [0, 20, 37, 100]\n",
        "\n",
        "# Convert using map()\n",
        "fahrenheit_temps = list(map(c_to_f, celsius_temps))\n",
        "\n",
        "print(\"Celsius:    \", celsius_temps)\n",
        "print(\"Fahrenheit: \", fahrenheit_temps)\n"
      ],
      "metadata": {
        "colab": {
          "base_uri": "https://localhost:8080/"
        },
        "id": "RIT3XVpP8Kvu",
        "outputId": "7d7476e0-40f8-4cac-d84b-0a31d3fc34de"
      },
      "execution_count": 26,
      "outputs": [
        {
          "output_type": "stream",
          "name": "stdout",
          "text": [
            "Celsius:     [0, 20, 37, 100]\n",
            "Fahrenheit:  [32.0, 68.0, 98.6, 212.0]\n"
          ]
        }
      ]
    },
    {
      "cell_type": "markdown",
      "source": [
        "10. Create a Python program that uses `filter()` to remove all the vowels from a given string."
      ],
      "metadata": {
        "id": "jZWCN1LQ8SjJ"
      }
    },
    {
      "cell_type": "code",
      "source": [
        "def remove_vowels(text):\n",
        "    vowels = \"aeiouAEIOU\"\n",
        "    return \"\".join(filter(lambda ch: ch not in vowels, text))\n",
        "\n",
        "# Example usage\n",
        "input_str = \"Hello World\"\n",
        "result = remove_vowels(input_str)\n",
        "print(result)\n"
      ],
      "metadata": {
        "colab": {
          "base_uri": "https://localhost:8080/"
        },
        "id": "Z43vIF_p8WE1",
        "outputId": "dad601ea-621c-4871-c3fe-8df39f41ce23"
      },
      "execution_count": 27,
      "outputs": [
        {
          "output_type": "stream",
          "name": "stdout",
          "text": [
            "Hll Wrld\n"
          ]
        }
      ]
    },
    {
      "cell_type": "markdown",
      "source": [],
      "metadata": {
        "id": "9XqQf1dF9B8N"
      }
    },
    {
      "cell_type": "markdown",
      "source": [
        "11.Write a Python program, which returns a list with 2-tuples. Each tuple consists of the order number and the\n",
        "product of the price per item and the quantity. The product should be increased by 10,- € if the value of the\n",
        "order is smaller than 100,00 €.\n",
        "\n",
        "Write a Python program using lambda and map"
      ],
      "metadata": {
        "id": "eg0jyn8x-P2W"
      }
    },
    {
      "cell_type": "code",
      "source": [
        "orders = [\n",
        "    [34587, \"Learning Python, Mark Lutz\", 4, 40.95],\n",
        "    [98762, \"Programming Python, Mark Lutz\", 5, 56.80],\n",
        "    [77226, \"Head First Python, Paul Barry\", 3, 32.95],\n",
        "    [88112, \"Einführung in Python3, Bernd Klein\", 3, 24.99]\n",
        "]\n",
        "\n",
        "# Use map and lambda\n",
        "result = list(map(lambda order: (order[0], order[2] * order[3] if order[2] * order[3] >= 100 else order[2] * order[3] + 10), orders))\n",
        "\n",
        "print(result)\n"
      ],
      "metadata": {
        "colab": {
          "base_uri": "https://localhost:8080/"
        },
        "id": "SSGQCv1h-HRG",
        "outputId": "125a62a1-2bd1-4c61-b3ef-ce8a95b47881"
      },
      "execution_count": 29,
      "outputs": [
        {
          "output_type": "stream",
          "name": "stdout",
          "text": [
            "[(34587, 163.8), (98762, 284.0), (77226, 108.85000000000001), (88112, 84.97)]\n"
          ]
        }
      ]
    }
  ]
}